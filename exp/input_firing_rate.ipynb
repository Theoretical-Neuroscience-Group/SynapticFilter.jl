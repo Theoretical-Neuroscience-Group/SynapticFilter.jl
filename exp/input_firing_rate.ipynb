{
 "cells": [
  {
   "cell_type": "code",
   "execution_count": null,
   "id": "a9d8d6e5-9131-4b84-a1f9-5e0a262fecfc",
   "metadata": {},
   "outputs": [],
   "source": [
    "using CSV\n",
    "using DataFrames\n",
    "using LaTeXStrings\n",
    "using Plots; pgfplotsx()\n",
    "using Statistics"
   ]
  },
  {
   "cell_type": "code",
   "execution_count": null,
   "id": "bb9436d3-ba6b-4048-aecf-ed52bc0ada6c",
   "metadata": {},
   "outputs": [],
   "source": [
    "# un-comment and run this cell in order to import the raw data as downloaded from the cluster and aggregate in a single dataframe `df`\n",
    "# df = DataFrame()\n",
    "# for i in 1:100 # loop over job indices as set in the .sh file\n",
    "#     append!(df, DataFrame(CSV.File(\"csv/input_firing_rate\" * lpad(i, 3, \"0\") * \".csv\")))\n",
    "# end\n",
    "# df"
   ]
  },
  {
   "cell_type": "code",
   "execution_count": null,
   "id": "29dfeed9-0c81-49d3-bbe0-7dc4d4edffbb",
   "metadata": {},
   "outputs": [],
   "source": [
    "# uncomment and run this cell in order to import the aggregated data\n",
    "df = CSV.read(\"csv/input_firing_rate.csv\", DataFrame)"
   ]
  },
  {
   "cell_type": "code",
   "execution_count": null,
   "id": "3b023201-733d-4895-9994-1c7a80650489",
   "metadata": {},
   "outputs": [],
   "source": [
    "# uncomment and run this cell in order to save the aggregated data\n",
    "# CSV.write(\"csv/input_firing_rate.csv\", df)"
   ]
  },
  {
   "cell_type": "code",
   "execution_count": null,
   "id": "a39a9b7c-b9c0-432b-b5b7-8dbc6cf46bd2",
   "metadata": {
    "tags": []
   },
   "outputs": [],
   "source": [
    "# process data\n",
    "df2 = groupby(df, [:filter, :rho])\n",
    "df3 = combine(df2, :mse => mean)\n",
    "df4 = filter(row -> !isnan(row.mse_mean) && row.mse_mean <= 1, df3)"
   ]
  },
  {
   "cell_type": "code",
   "execution_count": null,
   "id": "ba3895e3-47ea-48ab-814e-f55b61d8e707",
   "metadata": {},
   "outputs": [],
   "source": [
    "# uncomment and run this cell in order to save the aggregated data\n",
    "CSV.write(\"csv/input_firing_rate_processed.csv\", df4)"
   ]
  },
  {
   "cell_type": "code",
   "execution_count": null,
   "id": "41506d18-7d70-45f2-a985-c3a5a34b4c04",
   "metadata": {},
   "outputs": [],
   "source": [
    "ρ_rng = [2^i for i in 0:8]"
   ]
  },
  {
   "cell_type": "code",
   "execution_count": null,
   "id": "4e5904dd-bf1b-4fcc-8cc5-ec210e43eeeb",
   "metadata": {},
   "outputs": [],
   "source": [
    "data = filter(row -> row.filter == \"DiagSF\", df4)\n",
    "sort!(data, order(:rho))\n",
    "p = plot(\n",
    "    data[:, :rho], data[:, :mse_mean], \n",
    "    label       = \"Diagonal SF\", \n",
    "    color       = \"black\",    \n",
    "    markershape = :circle,\n",
    "    legend      = :topright,\n",
    "    xscale      = :log2,\n",
    "    xticks      = ρ_rng,\n",
    "    xformatter  = x->Int(x),\n",
    "    ylims       = (0, 1),\n",
    "    yticks      = 0:0.2:1,\n",
    "    xlabel      = \"Input firing rate [Hz]\",\n",
    "    ylabel      = \"Mean-squared error\",\n",
    "    title       = \"Performance as a function of input firing rate\",\n",
    "    titlefont   = (18,),\n",
    "    tickfont    = (16,),\n",
    "    guidefont   = (18,),\n",
    "    legendfontsize = 14\n",
    ")\n",
    "data = filter(row -> row.filter == \"BlockSF\", df4)\n",
    "sort!(data, order(:rho))\n",
    "plot!(\n",
    "    data[:, :rho], data[:, :mse_mean], \n",
    "    label             = \"Block SF\", \n",
    "    color             = \"blue\", \n",
    "    markerstrokecolor = \"blue\",\n",
    "    markershape       = :circle\n",
    ")\n",
    "data = filter(row -> row.filter == \"FullSF\", df4)\n",
    "sort!(data, order(:rho))\n",
    "plot!(\n",
    "    data[:, :rho], data[:, :mse_mean], \n",
    "    label             = \"Full SF\", \n",
    "    color             = \"red\",\n",
    "    markerstrokecolor = \"red\",\n",
    "    markershape       = :circle\n",
    ")"
   ]
  },
  {
   "cell_type": "code",
   "execution_count": null,
   "id": "8819434c-ba55-495c-9df0-48256d91af9e",
   "metadata": {},
   "outputs": [],
   "source": [
    "savefig(\"fig/input_firing_rate.pdf\")"
   ]
  },
  {
   "cell_type": "code",
   "execution_count": null,
   "id": "7cecbcb8-e80e-4731-899c-20e7a97f8c15",
   "metadata": {},
   "outputs": [],
   "source": []
  }
 ],
 "metadata": {
  "kernelspec": {
   "display_name": "Julia (4 threads) 1.6.1",
   "language": "julia",
   "name": "julia-(4-threads)-1.6"
  },
  "language_info": {
   "file_extension": ".jl",
   "mimetype": "application/julia",
   "name": "julia",
   "version": "1.6.1"
  }
 },
 "nbformat": 4,
 "nbformat_minor": 5
}
