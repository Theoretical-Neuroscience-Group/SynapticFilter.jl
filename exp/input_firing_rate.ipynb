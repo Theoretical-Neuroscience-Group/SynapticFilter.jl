{
 "cells": [
  {
   "cell_type": "code",
   "execution_count": 1,
   "id": "a9d8d6e5-9131-4b84-a1f9-5e0a262fecfc",
   "metadata": {},
   "outputs": [],
   "source": [
    "using CSV\n",
    "using DataFrames\n",
    "using LaTeXStrings\n",
    "using Plots; pgfplotsx()\n",
    "using Statistics"
   ]
  },
  {
   "cell_type": "code",
   "execution_count": 2,
   "id": "bb9436d3-ba6b-4048-aecf-ed52bc0ada6c",
   "metadata": {},
   "outputs": [],
   "source": [
    "# un-comment and run this cell in order to import the raw data as downloaded from the cluster and aggregate in a single dataframe `df`\n",
    "# df = DataFrame()\n",
    "# for i in 1:100 # loop over job indices as set in the .sh file\n",
    "#     append!(df, DataFrame(CSV.File(\"csv/input_firing_rate\" * lpad(i, 3, \"0\") * \".csv\")))\n",
    "# end\n",
    "# df"
   ]
  },
  {
   "cell_type": "code",
   "execution_count": 3,
   "id": "29dfeed9-0c81-49d3-bbe0-7dc4d4edffbb",
   "metadata": {},
   "outputs": [
    {
     "data": {
      "text/html": [
       "<table class=\"data-frame\"><thead><tr><th></th><th>filter</th><th>rho</th><th>mse</th></tr><tr><th></th><th>String</th><th>Float64</th><th>Float64</th></tr></thead><tbody><p>2,532 rows × 3 columns</p><tr><th>1</th><td>DiagSF</td><td>128.0</td><td>0.199036</td></tr><tr><th>2</th><td>DiagSF</td><td>4.0</td><td>0.487319</td></tr><tr><th>3</th><td>DiagSF</td><td>64.0</td><td>0.251936</td></tr><tr><th>4</th><td>DiagSF</td><td>8.0</td><td>0.383674</td></tr><tr><th>5</th><td>DiagSF</td><td>16.0</td><td>0.294717</td></tr><tr><th>6</th><td>DiagSF</td><td>32.0</td><td>0.256544</td></tr><tr><th>7</th><td>DiagSF</td><td>256.0</td><td>NaN</td></tr><tr><th>8</th><td>DiagSF</td><td>1.0</td><td>0.70513</td></tr><tr><th>9</th><td>BlockSF</td><td>8.0</td><td>0.402382</td></tr><tr><th>10</th><td>BlockSF</td><td>64.0</td><td>0.223858</td></tr><tr><th>11</th><td>BlockSF</td><td>128.0</td><td>0.147816</td></tr><tr><th>12</th><td>BlockSF</td><td>4.0</td><td>0.506002</td></tr><tr><th>13</th><td>BlockSF</td><td>16.0</td><td>0.291109</td></tr><tr><th>14</th><td>BlockSF</td><td>32.0</td><td>0.239392</td></tr><tr><th>15</th><td>BlockSF</td><td>256.0</td><td>NaN</td></tr><tr><th>16</th><td>BlockSF</td><td>1.0</td><td>0.716689</td></tr><tr><th>17</th><td>FullSF</td><td>128.0</td><td>0.251624</td></tr><tr><th>18</th><td>FullSF</td><td>8.0</td><td>0.38146</td></tr><tr><th>19</th><td>FullSF</td><td>64.0</td><td>0.216639</td></tr><tr><th>20</th><td>FullSF</td><td>1.0</td><td>0.722557</td></tr><tr><th>21</th><td>FullSF</td><td>256.0</td><td>NaN</td></tr><tr><th>22</th><td>FullSF</td><td>16.0</td><td>0.281872</td></tr><tr><th>23</th><td>FullSF</td><td>32.0</td><td>0.195965</td></tr><tr><th>24</th><td>FullSF</td><td>4.0</td><td>0.506465</td></tr><tr><th>25</th><td>DiagSF</td><td>2.0</td><td>0.608807</td></tr><tr><th>26</th><td>DiagSF</td><td>32.0</td><td>0.230028</td></tr><tr><th>27</th><td>DiagSF</td><td>16.0</td><td>0.31266</td></tr><tr><th>28</th><td>DiagSF</td><td>4.0</td><td>0.48256</td></tr><tr><th>29</th><td>DiagSF</td><td>256.0</td><td>NaN</td></tr><tr><th>30</th><td>DiagSF</td><td>1.0</td><td>0.721717</td></tr><tr><th>&vellip;</th><td>&vellip;</td><td>&vellip;</td><td>&vellip;</td></tr></tbody></table>"
      ],
      "text/latex": [
       "\\begin{tabular}{r|ccc}\n",
       "\t& filter & rho & mse\\\\\n",
       "\t\\hline\n",
       "\t& String & Float64 & Float64\\\\\n",
       "\t\\hline\n",
       "\t1 & DiagSF & 128.0 & 0.199036 \\\\\n",
       "\t2 & DiagSF & 4.0 & 0.487319 \\\\\n",
       "\t3 & DiagSF & 64.0 & 0.251936 \\\\\n",
       "\t4 & DiagSF & 8.0 & 0.383674 \\\\\n",
       "\t5 & DiagSF & 16.0 & 0.294717 \\\\\n",
       "\t6 & DiagSF & 32.0 & 0.256544 \\\\\n",
       "\t7 & DiagSF & 256.0 & NaN \\\\\n",
       "\t8 & DiagSF & 1.0 & 0.70513 \\\\\n",
       "\t9 & BlockSF & 8.0 & 0.402382 \\\\\n",
       "\t10 & BlockSF & 64.0 & 0.223858 \\\\\n",
       "\t11 & BlockSF & 128.0 & 0.147816 \\\\\n",
       "\t12 & BlockSF & 4.0 & 0.506002 \\\\\n",
       "\t13 & BlockSF & 16.0 & 0.291109 \\\\\n",
       "\t14 & BlockSF & 32.0 & 0.239392 \\\\\n",
       "\t15 & BlockSF & 256.0 & NaN \\\\\n",
       "\t16 & BlockSF & 1.0 & 0.716689 \\\\\n",
       "\t17 & FullSF & 128.0 & 0.251624 \\\\\n",
       "\t18 & FullSF & 8.0 & 0.38146 \\\\\n",
       "\t19 & FullSF & 64.0 & 0.216639 \\\\\n",
       "\t20 & FullSF & 1.0 & 0.722557 \\\\\n",
       "\t21 & FullSF & 256.0 & NaN \\\\\n",
       "\t22 & FullSF & 16.0 & 0.281872 \\\\\n",
       "\t23 & FullSF & 32.0 & 0.195965 \\\\\n",
       "\t24 & FullSF & 4.0 & 0.506465 \\\\\n",
       "\t25 & DiagSF & 2.0 & 0.608807 \\\\\n",
       "\t26 & DiagSF & 32.0 & 0.230028 \\\\\n",
       "\t27 & DiagSF & 16.0 & 0.31266 \\\\\n",
       "\t28 & DiagSF & 4.0 & 0.48256 \\\\\n",
       "\t29 & DiagSF & 256.0 & NaN \\\\\n",
       "\t30 & DiagSF & 1.0 & 0.721717 \\\\\n",
       "\t$\\dots$ & $\\dots$ & $\\dots$ & $\\dots$ \\\\\n",
       "\\end{tabular}\n"
      ],
      "text/plain": [
       "\u001b[1m2532×3 DataFrame\u001b[0m\n",
       "\u001b[1m  Row \u001b[0m│\u001b[1m filter  \u001b[0m\u001b[1m rho     \u001b[0m\u001b[1m mse        \u001b[0m\n",
       "\u001b[1m      \u001b[0m│\u001b[90m String  \u001b[0m\u001b[90m Float64 \u001b[0m\u001b[90m Float64    \u001b[0m\n",
       "──────┼──────────────────────────────\n",
       "    1 │ DiagSF     128.0    0.199036\n",
       "    2 │ DiagSF       4.0    0.487319\n",
       "    3 │ DiagSF      64.0    0.251936\n",
       "    4 │ DiagSF       8.0    0.383674\n",
       "    5 │ DiagSF      16.0    0.294717\n",
       "    6 │ DiagSF      32.0    0.256544\n",
       "    7 │ DiagSF     256.0  NaN\n",
       "    8 │ DiagSF       1.0    0.70513\n",
       "    9 │ BlockSF      8.0    0.402382\n",
       "   10 │ BlockSF     64.0    0.223858\n",
       "   11 │ BlockSF    128.0    0.147816\n",
       "  ⋮   │    ⋮        ⋮         ⋮\n",
       " 2523 │ FullSF      64.0    0.14309\n",
       " 2524 │ FullSF       4.0    0.494856\n",
       " 2525 │ FullSF     256.0    0.239392\n",
       " 2526 │ FullSF     128.0    0.166069\n",
       " 2527 │ FullSF       8.0    0.395143\n",
       " 2528 │ FullSF       1.0    0.746489\n",
       " 2529 │ FullSF      16.0    0.285894\n",
       " 2530 │ FullSF      32.0    0.231508\n",
       " 2531 │ DiagSF       2.0    0.620681\n",
       " 2532 │ BlockSF      2.0    0.619456\n",
       "\u001b[36m                    2511 rows omitted\u001b[0m"
      ]
     },
     "execution_count": 3,
     "metadata": {},
     "output_type": "execute_result"
    }
   ],
   "source": [
    "# uncomment and run this cell in order to import the aggregated data\n",
    "df = CSV.read(\"csv/input_firing_rate.csv\", DataFrame)"
   ]
  },
  {
   "cell_type": "code",
   "execution_count": 4,
   "id": "3b023201-733d-4895-9994-1c7a80650489",
   "metadata": {},
   "outputs": [],
   "source": [
    "# uncomment and run this cell in order to save the aggregated data\n",
    "# CSV.write(\"csv/input_firing_rate.csv\", df)"
   ]
  },
  {
   "cell_type": "code",
   "execution_count": 5,
   "id": "a39a9b7c-b9c0-432b-b5b7-8dbc6cf46bd2",
   "metadata": {
    "tags": []
   },
   "outputs": [
    {
     "data": {
      "text/html": [
       "<table class=\"data-frame\"><thead><tr><th></th><th>filter</th><th>rho</th><th>mse_mean</th></tr><tr><th></th><th>String</th><th>Float64</th><th>Float64</th></tr></thead><tbody><p>24 rows × 3 columns</p><tr><th>1</th><td>DiagSF</td><td>1.0</td><td>0.729456</td></tr><tr><th>2</th><td>DiagSF</td><td>2.0</td><td>0.613272</td></tr><tr><th>3</th><td>DiagSF</td><td>4.0</td><td>0.496868</td></tr><tr><th>4</th><td>DiagSF</td><td>8.0</td><td>0.388091</td></tr><tr><th>5</th><td>DiagSF</td><td>16.0</td><td>0.298234</td></tr><tr><th>6</th><td>DiagSF</td><td>32.0</td><td>0.236065</td></tr><tr><th>7</th><td>DiagSF</td><td>64.0</td><td>0.216219</td></tr><tr><th>8</th><td>DiagSF</td><td>128.0</td><td>0.233503</td></tr><tr><th>9</th><td>BlockSF</td><td>1.0</td><td>0.729832</td></tr><tr><th>10</th><td>BlockSF</td><td>2.0</td><td>0.613204</td></tr><tr><th>11</th><td>BlockSF</td><td>4.0</td><td>0.496822</td></tr><tr><th>12</th><td>BlockSF</td><td>8.0</td><td>0.388845</td></tr><tr><th>13</th><td>BlockSF</td><td>16.0</td><td>0.298206</td></tr><tr><th>14</th><td>BlockSF</td><td>32.0</td><td>0.22766</td></tr><tr><th>15</th><td>BlockSF</td><td>64.0</td><td>0.191415</td></tr><tr><th>16</th><td>BlockSF</td><td>128.0</td><td>0.178712</td></tr><tr><th>17</th><td>FullSF</td><td>1.0</td><td>0.73028</td></tr><tr><th>18</th><td>FullSF</td><td>2.0</td><td>0.608847</td></tr><tr><th>19</th><td>FullSF</td><td>4.0</td><td>0.493975</td></tr><tr><th>20</th><td>FullSF</td><td>8.0</td><td>0.383067</td></tr><tr><th>21</th><td>FullSF</td><td>16.0</td><td>0.288208</td></tr><tr><th>22</th><td>FullSF</td><td>32.0</td><td>0.211127</td></tr><tr><th>23</th><td>FullSF</td><td>64.0</td><td>0.171643</td></tr><tr><th>24</th><td>FullSF</td><td>128.0</td><td>0.149952</td></tr></tbody></table>"
      ],
      "text/latex": [
       "\\begin{tabular}{r|ccc}\n",
       "\t& filter & rho & mse\\_mean\\\\\n",
       "\t\\hline\n",
       "\t& String & Float64 & Float64\\\\\n",
       "\t\\hline\n",
       "\t1 & DiagSF & 1.0 & 0.729456 \\\\\n",
       "\t2 & DiagSF & 2.0 & 0.613272 \\\\\n",
       "\t3 & DiagSF & 4.0 & 0.496868 \\\\\n",
       "\t4 & DiagSF & 8.0 & 0.388091 \\\\\n",
       "\t5 & DiagSF & 16.0 & 0.298234 \\\\\n",
       "\t6 & DiagSF & 32.0 & 0.236065 \\\\\n",
       "\t7 & DiagSF & 64.0 & 0.216219 \\\\\n",
       "\t8 & DiagSF & 128.0 & 0.233503 \\\\\n",
       "\t9 & BlockSF & 1.0 & 0.729832 \\\\\n",
       "\t10 & BlockSF & 2.0 & 0.613204 \\\\\n",
       "\t11 & BlockSF & 4.0 & 0.496822 \\\\\n",
       "\t12 & BlockSF & 8.0 & 0.388845 \\\\\n",
       "\t13 & BlockSF & 16.0 & 0.298206 \\\\\n",
       "\t14 & BlockSF & 32.0 & 0.22766 \\\\\n",
       "\t15 & BlockSF & 64.0 & 0.191415 \\\\\n",
       "\t16 & BlockSF & 128.0 & 0.178712 \\\\\n",
       "\t17 & FullSF & 1.0 & 0.73028 \\\\\n",
       "\t18 & FullSF & 2.0 & 0.608847 \\\\\n",
       "\t19 & FullSF & 4.0 & 0.493975 \\\\\n",
       "\t20 & FullSF & 8.0 & 0.383067 \\\\\n",
       "\t21 & FullSF & 16.0 & 0.288208 \\\\\n",
       "\t22 & FullSF & 32.0 & 0.211127 \\\\\n",
       "\t23 & FullSF & 64.0 & 0.171643 \\\\\n",
       "\t24 & FullSF & 128.0 & 0.149952 \\\\\n",
       "\\end{tabular}\n"
      ],
      "text/plain": [
       "\u001b[1m24×3 DataFrame\u001b[0m\n",
       "\u001b[1m Row \u001b[0m│\u001b[1m filter  \u001b[0m\u001b[1m rho     \u001b[0m\u001b[1m mse_mean \u001b[0m\n",
       "\u001b[1m     \u001b[0m│\u001b[90m String  \u001b[0m\u001b[90m Float64 \u001b[0m\u001b[90m Float64  \u001b[0m\n",
       "─────┼────────────────────────────\n",
       "   1 │ DiagSF       1.0  0.729456\n",
       "   2 │ DiagSF       2.0  0.613272\n",
       "   3 │ DiagSF       4.0  0.496868\n",
       "   4 │ DiagSF       8.0  0.388091\n",
       "   5 │ DiagSF      16.0  0.298234\n",
       "   6 │ DiagSF      32.0  0.236065\n",
       "   7 │ DiagSF      64.0  0.216219\n",
       "   8 │ DiagSF     128.0  0.233503\n",
       "   9 │ BlockSF      1.0  0.729832\n",
       "  10 │ BlockSF      2.0  0.613204\n",
       "  11 │ BlockSF      4.0  0.496822\n",
       "  ⋮  │    ⋮        ⋮        ⋮\n",
       "  15 │ BlockSF     64.0  0.191415\n",
       "  16 │ BlockSF    128.0  0.178712\n",
       "  17 │ FullSF       1.0  0.73028\n",
       "  18 │ FullSF       2.0  0.608847\n",
       "  19 │ FullSF       4.0  0.493975\n",
       "  20 │ FullSF       8.0  0.383067\n",
       "  21 │ FullSF      16.0  0.288208\n",
       "  22 │ FullSF      32.0  0.211127\n",
       "  23 │ FullSF      64.0  0.171643\n",
       "  24 │ FullSF     128.0  0.149952\n",
       "\u001b[36m                    3 rows omitted\u001b[0m"
      ]
     },
     "execution_count": 5,
     "metadata": {},
     "output_type": "execute_result"
    }
   ],
   "source": [
    "# process data\n",
    "df2 = groupby(df, [:filter, :rho])\n",
    "df3 = combine(df2, :mse => mean)\n",
    "df4 = filter(row -> !isnan(row.mse_mean) && row.mse_mean <= 1, df3)"
   ]
  },
  {
   "cell_type": "code",
   "execution_count": 6,
   "id": "ba3895e3-47ea-48ab-814e-f55b61d8e707",
   "metadata": {},
   "outputs": [
    {
     "data": {
      "text/plain": [
       "\"csv/input_firing_rate_processed.csv\""
      ]
     },
     "execution_count": 6,
     "metadata": {},
     "output_type": "execute_result"
    }
   ],
   "source": [
    "# uncomment and run this cell in order to save the aggregated data\n",
    "CSV.write(\"csv/input_firing_rate_processed.csv\", df4)"
   ]
  },
  {
   "cell_type": "code",
   "execution_count": 7,
   "id": "41506d18-7d70-45f2-a985-c3a5a34b4c04",
   "metadata": {},
   "outputs": [
    {
     "data": {
      "text/plain": [
       "9-element Vector{Int64}:\n",
       "   1\n",
       "   2\n",
       "   4\n",
       "   8\n",
       "  16\n",
       "  32\n",
       "  64\n",
       " 128\n",
       " 256"
      ]
     },
     "execution_count": 7,
     "metadata": {},
     "output_type": "execute_result"
    }
   ],
   "source": [
    "ρ_rng = [2^i for i in 0:8]"
   ]
  },
  {
   "cell_type": "code",
   "execution_count": null,
   "id": "4e5904dd-bf1b-4fcc-8cc5-ec210e43eeeb",
   "metadata": {},
   "outputs": [],
   "source": [
    "data = filter(row -> row.filter == \"DiagSF\", df4)\n",
    "sort!(data, order(:rho))\n",
    "p = plot(\n",
    "    data[:, :rho], data[:, :mse_mean], \n",
    "    label       = \"Diagonal SF\", \n",
    "    color       = \"black\",    \n",
    "    markershape = :circle,\n",
    "    legend      = :topright,\n",
    "    xscale      = :log2,\n",
    "    xticks      = ρ_rng,\n",
    "    xformatter  = x->Int(x),\n",
    "    ylims       = (0, 1),\n",
    "    yticks      = 0:0.2:1,\n",
    "    xlabel      = \"Input firing rate [Hz]\",\n",
    "    ylabel      = \"Mean-squared error\",\n",
    "    title       = \"Performance as a function of input firing rate\",\n",
    "    titlefont   = (18,),\n",
    "    tickfont    = (16,),\n",
    "    guidefont   = (18,),\n",
    "    legendfontsize = 14\n",
    ")\n",
    "data = filter(row -> row.filter == \"BlockSF\", df4)\n",
    "sort!(data, order(:rho))\n",
    "plot!(\n",
    "    data[:, :rho], data[:, :mse_mean], \n",
    "    label             = \"Block SF\", \n",
    "    color             = \"blue\", \n",
    "    markerstrokecolor = \"blue\",\n",
    "    markershape       = :circle\n",
    ")\n",
    "data = filter(row -> row.filter == \"FullSF\", df4)\n",
    "sort!(data, order(:rho))\n",
    "plot!(\n",
    "    data[:, :rho], data[:, :mse_mean], \n",
    "    label             = \"Full SF\", \n",
    "    color             = \"red\",\n",
    "    markerstrokecolor = \"red\",\n",
    "    markershape       = :circle\n",
    ")"
   ]
  },
  {
   "cell_type": "code",
   "execution_count": null,
   "id": "8819434c-ba55-495c-9df0-48256d91af9e",
   "metadata": {},
   "outputs": [],
   "source": [
    "savefig(\"fig/input_firing_rate.pdf\")"
   ]
  },
  {
   "cell_type": "code",
   "execution_count": null,
   "id": "7cecbcb8-e80e-4731-899c-20e7a97f8c15",
   "metadata": {},
   "outputs": [],
   "source": []
  }
 ],
 "metadata": {
  "kernelspec": {
   "display_name": "Julia (4 threads) 1.6.1",
   "language": "julia",
   "name": "julia-(4-threads)-1.6"
  },
  "language_info": {
   "file_extension": ".jl",
   "mimetype": "application/julia",
   "name": "julia",
   "version": "1.6.1"
  }
 },
 "nbformat": 4,
 "nbformat_minor": 5
}
